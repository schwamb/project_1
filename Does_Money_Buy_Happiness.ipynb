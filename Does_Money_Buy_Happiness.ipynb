{
 "cells": [
  {
   "cell_type": "code",
   "execution_count": 2,
   "metadata": {},
   "outputs": [],
   "source": [
    "import pandas as pd\n",
    "import numpy as np\n",
    "import csv"
   ]
  },
  {
   "cell_type": "code",
   "execution_count": 7,
   "metadata": {},
   "outputs": [],
   "source": [
    "happy_2015 = \"Resources/2015.csv\"\n",
    "happy_2016 = \"Resources/2016.csv\"\n",
    "happy_2017 = \"Resources/2017.csv\"\n",
    "happy_2018 = \"Resources/2018.csv\"\n",
    "happy_2019 = \"Resources/2019.csv\"\n",
    "\n",
    "happy_2015_df = pd.read_csv(happy_2015)\n",
    "happy_2016_df = pd.read_csv(happy_2015)\n",
    "happy_2017_df = pd.read_csv(happy_2015)\n",
    "happy_2018_df = pd.read_csv(happy_2015)\n",
    "happy_2019_df = pd.read_csv(happy_2015)"
   ]
  },
  {
   "cell_type": "code",
   "execution_count": null,
   "metadata": {},
   "outputs": [],
   "source": []
  }
 ],
 "metadata": {
  "kernelspec": {
   "display_name": "Python 3",
   "language": "python",
   "name": "python3"
  },
  "language_info": {
   "codemirror_mode": {
    "name": "ipython",
    "version": 3
   },
   "file_extension": ".py",
   "mimetype": "text/x-python",
   "name": "python",
   "nbconvert_exporter": "python",
   "pygments_lexer": "ipython3",
   "version": "3.8.3"
  }
 },
 "nbformat": 4,
 "nbformat_minor": 4
}
